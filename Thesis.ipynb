{
  "cells": [
    {
      "cell_type": "markdown",
      "metadata": {
        "id": "X8hFCO7xf0Z4"
      },
      "source": [
        "Sure! Let me break down the **Virtual Twins (VT) method** for you in simple terms. The VT method is a technique used to identify subgroups of patients who might benefit more from a specific treatment compared to others. It’s often used in clinical trials where researchers want to find out if certain types of patients respond better to a treatment.\n",
        "\n",
        "The method involves two main steps:\n",
        "\n",
        "---\n",
        "\n",
        "### **Step 1: Estimate the Probability of Response for Each Patient**\n",
        "In this step, the goal is to predict how likely each patient is to respond to the treatment (or not respond) based on their characteristics (like age, health conditions, etc.). Here’s how it works:\n",
        "\n",
        "1. **What are we trying to predict?**\n",
        "   - We want to predict two probabilities for each patient:\n",
        "     - **P1i**: The probability that the patient will respond to the treatment (let’s call this the \"treatment group\").\n",
        "     - **P0i**: The probability that the patient will respond to the control or placebo (let’s call this the \"control group\").\n",
        "\n",
        "2. **How do we predict these probabilities?**\n",
        "   - We use a machine learning model called **Random Forest** to make these predictions. A Random Forest is like a team of decision trees that work together to make accurate predictions.\n",
        "   - There are a few ways to do this:\n",
        "     - **Simple Random Forest**: We train one Random Forest model using all the data (both treatment and control groups) and predict the probabilities.\n",
        "     - **Double Random Forest**: We train two separate Random Forest models—one for the treatment group and one for the control group—and predict the probabilities separately.\n",
        "     - **K-Fold Random Forest**: We use a technique called cross-validation to make sure our predictions are reliable. This involves splitting the data into smaller groups, training the model on some groups, and testing it on others.\n",
        "\n",
        "3. **What do we do with these probabilities?**\n",
        "   - Once we have P1i and P0i for each patient, we calculate the difference between them: **Zi = P1i - P0i**. This difference tells us how much better (or worse) the treatment is expected to work for that patient compared to the control.\n",
        "\n",
        "---\n",
        "\n",
        "### **Step 2: Find Subgroups with Enhanced Treatment Effect**\n",
        "Now that we have the difference in response probabilities (Zi), we want to find out which patients have the **highest benefit** from the treatment. In other words, we want to find subgroups of patients where the treatment works much better than the control.\n",
        "\n",
        "1. **How do we find these subgroups?**\n",
        "   - We use another machine learning model called a **Decision Tree** to analyze the differences (Zi) and identify patterns in the patient characteristics (like age, health scores, etc.) that explain why some patients benefit more from the treatment.\n",
        "   - There are two ways to do this:\n",
        "     - **Classification Tree**: We turn Zi into a binary variable (e.g., 1 if Zi is greater than a certain threshold, and 0 otherwise). Then, we use a classification tree to find which patient characteristics are associated with a high Zi.\n",
        "     - **Regression Tree**: We directly use Zi as a continuous variable and build a regression tree to find which patient characteristics are associated with higher values of Zi.\n",
        "\n",
        "2. **What do we get from this?**\n",
        "   - The tree will split the patients into subgroups based on their characteristics. For example, it might tell us that patients who are **younger than 50** and have a **certain health score** benefit the most from the treatment.\n",
        "   - These subgroups are the ones where the treatment has the **strongest effect**.\n",
        "\n",
        "---\n",
        "\n",
        "### **Putting It All Together**\n",
        "1. **Step 1**: Use Random Forest to predict how likely each patient is to respond to the treatment and control. Calculate the difference in these probabilities (Zi).\n",
        "2. **Step 2**: Use a Decision Tree to find subgroups of patients where the treatment has the biggest effect (i.e., where Zi is the highest).\n",
        "\n",
        "---\n",
        "\n",
        "### **Why Is This Useful?**\n",
        "- In clinical trials, not all patients respond the same way to a treatment. The VT method helps identify which patients are most likely to benefit, allowing doctors to tailor treatments to specific groups.\n",
        "- It’s a powerful way to personalize medicine and make sure treatments are given to the right people.\n",
        "\n",
        "---\n",
        "\n",
        "### **Example**\n",
        "Imagine we’re testing a new drug for sepsis (a serious infection). The VT method might tell us that patients who are **younger than 50** and have a **certain health score** are much more likely to survive if they take the drug. This helps doctors focus the treatment on the patients who will benefit the most.\n",
        "\n",
        "---\n",
        "\n",
        "Does that make sense? Let me know if you have any questions! 😊"
      ]
    },
    {
      "cell_type": "markdown",
      "metadata": {
        "id": "r_SsrhwlgCgg"
      },
      "source": [
        "Import libraries"
      ]
    },
    {
      "cell_type": "code",
      "execution_count": 1,
      "metadata": {
        "id": "srFSzfcMeuyC"
      },
      "outputs": [],
      "source": [
        "import pandas as pd\n",
        "import os\n",
        "from Functions.vt_data import vt_data_python, format_rct_dataset_python, VTObject"
      ]
    },
    {
      "cell_type": "markdown",
      "metadata": {
        "id": "U1tjSqR6gLIu"
      },
      "source": [
        "Load Dataset"
      ]
    },
    {
      "cell_type": "code",
      "execution_count": 2,
      "metadata": {
        "colab": {
          "base_uri": "https://localhost:8080/",
          "height": 287
        },
        "id": "N-D2ecLagOwh",
        "outputId": "ace6b290-dc90-4e06-a8a2-d05b57357308"
      },
      "outputs": [
        {
          "name": "stdout",
          "output_type": "stream",
          "text": [
            "   survival  THERAPY  PRAPACHE     AGE  BLGCS  ORGANNUM    BLIL6     BLLPLAT  \\\n",
            "0         0        1        19  42.921     15         1   301.80  191.000000   \n",
            "1         1        1        48  68.818     11         2   118.90  264.156481   \n",
            "2         0        1        20  68.818     15         2    92.80  123.000000   \n",
            "3         0        1        19  33.174     14         2  1232.00  244.000000   \n",
            "4         0        1        48  46.532      3         4  2568.00   45.000000   \n",
            "5         0        0        21  56.098     14         1   162.65  137.000000   \n",
            "6         1        0        19  68.818     15         2  2568.00   45.000000   \n",
            "7         0        1        19  46.532     15         3  4952.00   92.000000   \n",
            "8         0        1        22  56.098     15         3   118.90  148.601978   \n",
            "9         1        1        19  56.098     10         3  2568.00  109.000000   \n",
            "\n",
            "    BLLBILI  BLLCREAT  TIMFIRST      BLADL  blSOFA  \n",
            "0  2.913416  1.000000     17.17   0.000000    5.00  \n",
            "1  0.400000  1.100000     17.17   5.000000   10.00  \n",
            "2  5.116471  1.000000     10.00   1.000000    7.50  \n",
            "3  3.142092  1.200000     17.17   0.000000    6.25  \n",
            "4  4.052668  3.000000     10.00   0.000000   12.00  \n",
            "5  0.500000  4.662556     10.00   0.000000    8.75  \n",
            "6  4.192245  1.000000     19.33  12.000000    8.75  \n",
            "7  3.296981  1.000000     27.08   0.000000   10.00  \n",
            "8  2.500000  5.000000     24.50   0.000000   12.00  \n",
            "9  4.800000  1.800000     27.08   1.999317   12.00  \n"
          ]
        }
      ],
      "source": [
        "sepsis_data_python = pd.read_csv('dataset/sepsis_dataset.csv')\n",
        "print(sepsis_data_python.head(10))"
      ]
    },
    {
      "cell_type": "markdown",
      "metadata": {},
      "source": [
        "Create Virtual Twin"
      ]
    },
    {
      "cell_type": "code",
      "execution_count": 3,
      "metadata": {},
      "outputs": [
        {
          "name": "stdout",
          "output_type": "stream",
          "text": [
            "   survival  THERAPY  PRAPACHE     AGE  BLGCS  ORGANNUM   BLIL6     BLLPLAT  \\\n",
            "0         0        1        19  42.921     15         1   301.8  191.000000   \n",
            "1         1        1        48  68.818     11         2   118.9  264.156481   \n",
            "2         0        1        20  68.818     15         2    92.8  123.000000   \n",
            "3         0        1        19  33.174     14         2  1232.0  244.000000   \n",
            "4         0        1        48  46.532      3         4  2568.0   45.000000   \n",
            "\n",
            "    BLLBILI  BLLCREAT  ...  THERAPY_x_AGE  THERAPY_x_BLGCS  \\\n",
            "0  2.913416       1.0  ...         42.921               15   \n",
            "1  0.400000       1.1  ...         68.818               11   \n",
            "2  5.116471       1.0  ...         68.818               15   \n",
            "3  3.142092       1.2  ...         33.174               14   \n",
            "4  4.052668       3.0  ...         46.532                3   \n",
            "\n",
            "   THERAPY_x_ORGANNUM  THERAPY_x_BLIL6  THERAPY_x_BLLPLAT  THERAPY_x_BLLBILI  \\\n",
            "0                   1            301.8         191.000000           2.913416   \n",
            "1                   2            118.9         264.156481           0.400000   \n",
            "2                   2             92.8         123.000000           5.116471   \n",
            "3                   2           1232.0         244.000000           3.142092   \n",
            "4                   4           2568.0          45.000000           4.052668   \n",
            "\n",
            "   THERAPY_x_BLLCREAT  THERAPY_x_TIMFIRST  THERAPY_x_BLADL  THERAPY_x_blSOFA  \n",
            "0                 1.0               17.17              0.0              5.00  \n",
            "1                 1.1               17.17              5.0             10.00  \n",
            "2                 1.0               10.00              1.0              7.50  \n",
            "3                 1.2               17.17              0.0              6.25  \n",
            "4                 3.0               10.00              0.0             12.00  \n",
            "\n",
            "[5 rows x 24 columns]\n"
          ]
        }
      ],
      "source": [
        "# from vt_data import vt_data_python, format_rct_dataset_python, VTObject\n",
        "\n",
        "outcome_field_name_python = 'survival' # Assuming 'survival' column name is the same in your Python dataset\n",
        "treatment_field_name_python = 'THERAPY' # Assuming 'THERAPY' column name is the same\n",
        "\n",
        "vt_object_python = vt_data_python(sepsis_data_python, outcome_field_name_python, treatment_field_name_python, interactions=True)\n",
        "\n",
        "# Now 'vt_object_python' is your Virtual Twin object in Python, \n",
        "# created using our Python reimplementation of vt.data.\n",
        "# You can access the formatted data using vt_object_python.get_data()\n",
        "formatted_data_python = vt_object_python.get_data()\n",
        "print(formatted_data_python.head())"
      ]
    },
    {
      "cell_type": "markdown",
      "metadata": {},
      "source": [
        "**Step 1: Compute  P<sub>1i</sub> and P<sub>0i</sub>**"
      ]
    },
    {
      "cell_type": "markdown",
      "metadata": {},
      "source": [
        "Simple Random Forest"
      ]
    },
    {
      "cell_type": "code",
      "execution_count": 1,
      "metadata": {},
      "outputs": [],
      "source": [
        "from sklearn.ensemble import RandomForestRegressor, RandomForestClassifier # Scikit-learn for Random Forest\n",
        "from sklearn.model_selection import train_test_split # For potential train/test splits\n",
        "# import numpy as np # if needed for more numerical operations\n",
        "\n",
        "class VTForestOnePython:\n",
        "    \"\"\"\n",
        "    Python equivalent of R's vt.forest(\"one\", ...) for a single Random Forest Virtual Twin model.\n",
        "    \"\"\"\n",
        "    def __init__(self, vt_data, model=None, interactions=True, forest_type=\"regression\", **kwargs):\n",
        "        \"\"\"\n",
        "        Initializes the VTForestOnePython object.\n",
        "\n",
        "        Args:\n",
        "            vt_data (VTObject): A VTObject created using vt_data_python.\n",
        "            model (RandomForestRegressor or RandomForestClassifier, optional): \n",
        "                A pre-fitted scikit-learn Random Forest model. If None, a new model will be trained. Defaults to None.\n",
        "            interactions (bool, optional): Whether interaction terms were used in vt_data formatting. Defaults to True.\n",
        "            forest_type (str, optional): \"regression\" or \"classification\". Determines the type of Random Forest model. Defaults to \"regression\".\n",
        "            **kwargs:  Keyword arguments to be passed to scikit-learn RandomForestRegressor or RandomForestClassifier constructor.\n",
        "        \"\"\"\n",
        "        self.vt_data = vt_data\n",
        "        self.interactions = interactions\n",
        "        self.forest_type = forest_type\n",
        "        self.model = model # Store the model (either passed or will be trained)\n",
        "        self.model_params = kwargs # Store extra parameters for the model\n",
        "\n",
        "        if self.model is None:\n",
        "            self._train_model() # Train a new Random Forest model if none was provided\n",
        "\n",
        "    def _train_model(self):\n",
        "        \"\"\"\n",
        "        Trains a Random Forest model using the data from the VTObject.\n",
        "        \"\"\"\n",
        "        X = self.vt_data.get_X(interactions=self.interactions)\n",
        "        y = self.vt_data.get_y()\n",
        "\n",
        "        # Determine model type based on forest_type\n",
        "        if self.forest_type == \"regression\":\n",
        "            model_class = RandomForestRegressor\n",
        "        elif self.forest_type == \"classification\":\n",
        "            model_class = RandomForestClassifier\n",
        "        else:\n",
        "            raise ValueError(\"Invalid forest_type. Choose 'regression' or 'classification'.\")\n",
        "\n",
        "        # Initialize and train the Random Forest model\n",
        "        self.model = model_class(**self.model_params) # Pass any kwargs as model parameters\n",
        "        self.model.fit(X, y) # Train the model\n",
        "\n",
        "    def get_model(self):\n",
        "        \"\"\"\n",
        "        Returns the trained scikit-learn Random Forest model.\n",
        "        \"\"\"\n",
        "        return self.model\n",
        "\n",
        "    # You would add methods here for prediction, effect estimation, interpretation, etc.\n",
        "    # based on what VT.forest(\"one\", ...) is supposed to do in R.\n",
        "    # For example: prediction for virtual twins, variable importance, etc."
      ]
    }
  ],
  "metadata": {
    "colab": {
      "provenance": []
    },
    "kernelspec": {
      "display_name": "Python 3",
      "name": "python3"
    },
    "language_info": {
      "codemirror_mode": {
        "name": "ipython",
        "version": 3
      },
      "file_extension": ".py",
      "mimetype": "text/x-python",
      "name": "python",
      "nbconvert_exporter": "python",
      "pygments_lexer": "ipython3",
      "version": "3.12.3"
    }
  },
  "nbformat": 4,
  "nbformat_minor": 0
}
